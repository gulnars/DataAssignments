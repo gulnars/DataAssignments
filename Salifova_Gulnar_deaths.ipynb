{
  "nbformat": 4,
  "nbformat_minor": 0,
  "metadata": {
    "colab": {
      "name": "Untitled1.ipynb",
      "provenance": []
    },
    "kernelspec": {
      "name": "python3",
      "display_name": "Python 3"
    },
    "language_info": {
      "name": "python"
    }
  },
  "cells": [
    {
      "cell_type": "code",
      "execution_count": null,
      "metadata": {
        "id": "xaY8qrXw-8_R"
      },
      "outputs": [],
      "source": [
        "import numpy as np\n",
        "import pandas as pd\n",
        "import matplotlib.pyplot as plt\n",
        "import seaborn as sns\n",
        "deaths = pd.read_csv(\"https://raw.githubusercontent.com/CSSEGISandData/COVID-19/master/csse_covid_19_data/csse_covid_19_time_series/time_series_covid19_deaths_US.csv\")\n",
        "\n",
        "\n",
        "##########Data describing\n",
        "deaths.info\n",
        "deaths.describe()\n",
        "\n",
        "\n",
        "#%% sorting data by groupby\n",
        "\n",
        "world_deaths = deaths.groupby(\"Country_Region\")['3/22/22','3/23/22','3/24/22','3/25/22','3/26/22','3/27/22','3/28/22'].sum().reset_index()\n",
        "world_deaths.head()    #1 həftəlik göstərici \n",
        "\n",
        "#%% vizualizing top 10 countries by \"Yoluxma\"\n",
        "\n",
        "top_10 = world_deaths.sort_values(by=['3/28/22'], ascending=False).head(20)\n",
        "plt.figure(figsize=(12,10))\n",
        "plot = sns.barplot(top_10['3/28/22'], top_10['Country_Region'])   #top 10 olke\n",
        "plt.show()"
      ]
    }
  ]
}